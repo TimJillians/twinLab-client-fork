{
 "cells": [
  {
   "cell_type": "code",
   "execution_count": null,
   "metadata": {},
   "outputs": [],
   "source": [
    "# Standard imports\n",
    "#from importlib import reload\n",
    "\n",
    "# Third-party imports\n",
    "import pandas as pd\n",
    "import matplotlib.pyplot as plt\n",
    "\n",
    "# Project imports\n",
    "import twinlab_client as tl\n",
    "#reload(tl)"
   ]
  },
  {
   "cell_type": "code",
   "execution_count": null,
   "metadata": {},
   "outputs": [],
   "source": [
    "# File paths\n",
    "campaign_dir = \"./../campaigns/basic/\"\n",
    "file_train = campaign_dir + \"train.csv\"\n",
    "file_eval = campaign_dir + \"eval.csv\"\n",
    "file_params = campaign_dir + \"params.json\"\n",
    "\n",
    "# Campaign id\n",
    "campaign_id = \"basic\"\n",
    "\n",
    "# Server\n",
    "# server = \"local\"\n",
    "server = \"cloud\""
   ]
  },
  {
   "cell_type": "code",
   "execution_count": null,
   "metadata": {},
   "outputs": [],
   "source": [
    "# Load training and evaluation data\n",
    "df_train = pd.read_csv(file_train)\n",
    "df_eval = pd.read_csv(file_eval)"
   ]
  },
  {
   "cell_type": "code",
   "execution_count": null,
   "metadata": {},
   "outputs": [],
   "source": [
    "# Run TwinLab\n",
    "tl.upload_dataset(file_train, server=server)\n",
    "tl.new_campaign(file_params, campaign_id, server=server)\n",
    "df_mean, df_std = tl.sample_emulator(file_eval, campaign_id, server=server, verbose=False)"
   ]
  },
  {
   "cell_type": "code",
   "execution_count": null,
   "metadata": {},
   "outputs": [],
   "source": [
    "# List campaigns\n",
    "tl.list_campaigns(server=server, verbose=True)"
   ]
  },
  {
   "cell_type": "code",
   "execution_count": null,
   "metadata": {},
   "outputs": [],
   "source": [
    "# List datasets\n",
    "tl.list_datasets(server=server, verbose=True)"
   ]
  },
  {
   "cell_type": "code",
   "execution_count": null,
   "metadata": {},
   "outputs": [],
   "source": [
    "# Plot results\n",
    "color = \"blue\"\n",
    "alpha = 0.3\n",
    "for nsig in [1, 2]:\n",
    "    plt.fill_between(df_eval[\"x\"], df_mean[\"y\"]-nsig*df_std[\"y\"], df_mean[\"y\"]+nsig*df_std[\"y\"], lw=0, color=color, alpha=alpha)\n",
    "plt.plot(df_eval[\"x\"], df_mean[\"y\"], color=color, alpha=alpha, label=\"Model\")\n",
    "plt.plot(df_train[\"x\"], df_train[\"y\"], \"o\", color=\"black\", label=\"Training data\")\n",
    "plt.xlim((0.0, 1.0))\n",
    "plt.xlabel(\"x\")\n",
    "plt.ylabel(\"y\")\n",
    "plt.legend()\n",
    "plt.show()"
   ]
  },
  {
   "cell_type": "code",
   "execution_count": null,
   "metadata": {},
   "outputs": [],
   "source": [
    "# Delete campaign\n",
    "tl.delete_campaign(campaign_id, server=server, verbose=True)"
   ]
  }
 ],
 "metadata": {
  "kernelspec": {
   "display_name": "twinlab-cloud-IBHCqXSr-py3.9",
   "language": "python",
   "name": "python3"
  },
  "language_info": {
   "codemirror_mode": {
    "name": "ipython",
    "version": 3
   },
   "file_extension": ".py",
   "mimetype": "text/x-python",
   "name": "python",
   "nbconvert_exporter": "python",
   "pygments_lexer": "ipython3",
   "version": "3.9.16"
  },
  "orig_nbformat": 4
 },
 "nbformat": 4,
 "nbformat_minor": 2
}
