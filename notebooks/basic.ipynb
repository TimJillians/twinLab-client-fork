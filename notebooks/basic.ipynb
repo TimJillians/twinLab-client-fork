{
 "cells": [
  {
   "cell_type": "markdown",
   "metadata": {},
   "source": [
    "This notebook is a basic example of the `twinlab` library."
   ]
  },
  {
   "cell_type": "markdown",
   "metadata": {},
   "source": [
    "First we import the required libraries. `os` allows us to interact with the operating system, used here to create file paths. `numpy` is used to allow us to manipulate arrays with efficiency. `pandas` gives us access to Pandas Dataframes which are a much better way of storing our data. `matplotlib.pyplot` lets us plot graphs with our data. `twinlab` is the main library we are using. Some of the libraries are renamed using `as` for convenience. "
   ]
  },
  {
   "cell_type": "code",
   "execution_count": 1,
   "metadata": {},
   "outputs": [
    {
     "name": "stdout",
     "output_type": "stream",
     "text": [
      "\n",
      "         === TwinLab Client Initialisation ===\n",
      "         Training : https://pdersvjxmgrkqojwyeyocqm7le0iwtkx.lambda-url.eu-west-2.on.aws/\n",
      "         Server   : https://mt9w8ln59j.execute-api.eu-west-2.amazonaws.com/dev\n",
      "         Group    : digilab\n",
      "         User     : tim\n",
      "\n"
     ]
    }
   ],
   "source": [
    "# Standard imports\n",
    "# 'os' allows us to use paths\n",
    "import os\n",
    "\n",
    "# Third-party imports\n",
    "import numpy as np\n",
    "\n",
    "import pandas as pd\n",
    "import matplotlib.pyplot as plt\n",
    "\n",
    "# Project imports\n",
    "import twinlab as tl"
   ]
  },
  {
   "cell_type": "markdown",
   "metadata": {},
   "source": [
    "Here we create file paths using `os`, which we will use later to locate where our training and input data is stored."
   ]
  },
  {
   "cell_type": "code",
   "execution_count": 2,
   "metadata": {},
   "outputs": [],
   "source": [
    "# File paths\n",
    "campaign_dir = os.path.join(\"..\", \"campaigns\", \"basic\")\n",
    "datasets_dir = os.path.join(\"..\", \"datasets\")\n",
    "dataset_id = \"basic.csv\"\n",
    "file_train = os.path.join(datasets_dir, \"basic.csv\")\n",
    "file_eval = os.path.join(campaign_dir, \"eval.csv\")\n",
    "file_params = os.path.join(campaign_dir, \"params.json\")\n",
    "\n",
    "# Campaign id\n",
    "campaign_id = \"basic\""
   ]
  },
  {
   "cell_type": "markdown",
   "metadata": {},
   "source": [
    "In this cell we use the `twinLab` library to give the data located at the address stored in the `filetrain` variable to the machine learning model on the web. The `verbose` argument lets the user see information about the upload, which is what creates the grey text below when the program runs."
   ]
  },
  {
   "cell_type": "code",
   "execution_count": 3,
   "metadata": {},
   "outputs": [
    {
     "name": "stdout",
     "output_type": "stream",
     "text": [
      "Response: Presigned URL generated successfully\n",
      "\n",
      "File ..\\datasets\\basic.csv uploaded successfully.\n",
      "\n",
      "Uploading basic.csv\n",
      "Response: Dataset basic.csv processed successfully\n",
      "\n"
     ]
    }
   ],
   "source": [
    "# Upload dataset to the cloud\n",
    "tl.upload_dataset(file_train, dataset_name=dataset_id, verbose=True)"
   ]
  },
  {
   "cell_type": "markdown",
   "metadata": {},
   "source": [
    "This lists all of the datasets that the model has been given, including the one we gave it in the previous cell."
   ]
  },
  {
   "cell_type": "code",
   "execution_count": 4,
   "metadata": {},
   "outputs": [
    {
     "name": "stdout",
     "output_type": "stream",
     "text": [
      "Response: Found 4 datasets\n",
      "\n",
      "Datasets:\n",
      "['adaas', 'basic', 'basic.csv', 'test.csv']\n"
     ]
    }
   ],
   "source": [
    "# List datasets\n",
    "_ = tl.list_datasets(verbose=True)"
   ]
  },
  {
   "cell_type": "markdown",
   "metadata": {},
   "source": [
    "This trains the model using the data it has been given. The first argument is a variable containing the path/address to the `params.json` file, which tells the model which file the training data is in, which numbers are the inputs in that file, and which are the corresponding outputs for it to learn from. "
   ]
  },
  {
   "cell_type": "code",
   "execution_count": 5,
   "metadata": {},
   "outputs": [
    {
     "name": "stdout",
     "output_type": "stream",
     "text": [
      "Response: Training basic complete\n",
      "\n"
     ]
    }
   ],
   "source": [
    "# Start a new campaign and train an emulator\n",
    "tl.train_campaign(file_params, campaign_id, verbose=True)"
   ]
  },
  {
   "cell_type": "markdown",
   "metadata": {},
   "source": [
    "`list_campaigns` lists all of the different models that we could use. We are using the one named 'basic' which we defined earlier in a variable called `campaign_id`."
   ]
  },
  {
   "cell_type": "code",
   "execution_count": 6,
   "metadata": {},
   "outputs": [
    {
     "name": "stdout",
     "output_type": "stream",
     "text": [
      "Response: Found 2 campaigns\n",
      "\n",
      "Campaigns:\n",
      "['test', 'basic']\n"
     ]
    }
   ],
   "source": [
    "# List campaigns\n",
    "_ = tl.list_campaigns(verbose=True)"
   ]
  },
  {
   "cell_type": "markdown",
   "metadata": {},
   "source": [
    "`query_campaign` displays statistics about the model we are using."
   ]
  },
  {
   "cell_type": "code",
   "execution_count": 7,
   "metadata": {},
   "outputs": [
    {
     "name": "stdout",
     "output_type": "stream",
     "text": [
      "Response: Query of basic campaign complete\n",
      "\n",
      "Metadata:\n",
      "{'inputs': ['x'],\n",
      " 'outputs': ['y'],\n",
      " 'diagnostics': {'transformer_diagnostics': [],\n",
      "                 'estimator_diagnostics': {'likelihood.noise_covar.raw_noise': [0.031576525703138],\n",
      "                                           'likelihood.noise_covar.noise_prior.concentration': 1.100000023841858,\n",
      "                                           'likelihood.noise_covar.noise_prior.rate': 0.05000000074505806,\n",
      "                                           'likelihood.noise_covar.raw_noise_constraint.lower_bound': 9.999999747378752e-05,\n",
      "                                           'likelihood.noise_covar.raw_noise_constraint.upper_bound': inf,\n",
      "                                           'mean_module.raw_constant': 0.21052500685319275,\n",
      "                                           'covar_module.raw_outputscale': 1.5142710611310786,\n",
      "                                           'covar_module.base_kernel.raw_lengthscale': [[-0.6408405631160676]],\n",
      "                                           'covar_module.base_kernel.lengthscale_prior.concentration': 3.0,\n",
      "                                           'covar_module.base_kernel.lengthscale_prior.rate': 6.0,\n",
      "                                           'covar_module.base_kernel.raw_lengthscale_constraint.lower_bound': 0.0,\n",
      "                                           'covar_module.base_kernel.raw_lengthscale_constraint.upper_bound': inf,\n",
      "                                           'covar_module.outputscale_prior.concentration': 2.0,\n",
      "                                           'covar_module.outputscale_prior.rate': 0.15000000596046448,\n",
      "                                           'covar_module.raw_outputscale_constraint.lower_bound': 0.0,\n",
      "                                           'covar_module.raw_outputscale_constraint.upper_bound': inf,\n",
      "                                           'outcome_transform.means': [[0.029383131672480856]],\n",
      "                                           'outcome_transform.stdvs': [[0.7481906564998719]],\n",
      "                                           'outcome_transform._stdvs_sq': [[0.5597892584737093]],\n",
      "                                           'input_transform._coefficient': [[0.7539127448204125]],\n",
      "                                           'input_transform._offset': [[0.2268514535642031]]}},\n",
      " 'calibration_error': None}\n"
     ]
    }
   ],
   "source": [
    "# Look at the status of a campaign\n",
    "_ = tl.query_campaign(campaign_id, verbose=True)"
   ]
  },
  {
   "cell_type": "markdown",
   "metadata": {},
   "source": [
    "This step takes in the input numbers found in the `eval.csv` file, and using the pattern it has learned from the training data, it generates corresponding outputs. These are the model 'predicting' what it thinks the outputs will be, so we call it `predict_campaign`. The predicted output values are assigned to `df_mean`. `df_std` stores how uncertain the model was over each value, saying that the true value could be anywhere in the range of the `df_mean` value plus or minus the `df_std` value. "
   ]
  },
  {
   "cell_type": "code",
   "execution_count": 8,
   "metadata": {},
   "outputs": [
    {
     "name": "stdout",
     "output_type": "stream",
     "text": [
      "Response: Prediction from basic campaign complete\n",
      "\n",
      "Mean: \n",
      "             y\n",
      "0    0.617689\n",
      "1    0.629105\n",
      "2    0.640630\n",
      "3    0.652252\n",
      "4    0.663957\n",
      "..        ...\n",
      "123 -0.207700\n",
      "124 -0.185577\n",
      "125 -0.164109\n",
      "126 -0.143321\n",
      "127 -0.123230\n",
      "\n",
      "[128 rows x 1 columns] \n",
      "\n",
      "Std: \n",
      "             y\n",
      "0    0.642656\n",
      "1    0.626627\n",
      "2    0.610103\n",
      "3    0.593090\n",
      "4    0.575600\n",
      "..        ...\n",
      "123  0.131604\n",
      "124  0.129953\n",
      "125  0.132195\n",
      "126  0.138525\n",
      "127  0.148704\n",
      "\n",
      "[128 rows x 1 columns] \n",
      "\n"
     ]
    }
   ],
   "source": [
    "# Predict using the trained emulator\n",
    "df_mean, df_std = tl.predict_campaign(file_eval, campaign_id, verbose=True)"
   ]
  },
  {
   "cell_type": "markdown",
   "metadata": {},
   "source": [
    "We now load the data from the `basic.csv` file, which contains training data. The address for this file is stored in the `file_train` variable. We also load the input and output data from the prediction we did in the previous step.  "
   ]
  },
  {
   "cell_type": "code",
   "execution_count": 9,
   "metadata": {},
   "outputs": [],
   "source": [
    "# Load training and evaluation data (for plotting)\n",
    "df_train = pd.read_csv(file_train)\n",
    "df_eval = pd.read_csv(file_eval)"
   ]
  },
  {
   "cell_type": "markdown",
   "metadata": {},
   "source": [
    "Now we plot a graph using the data we loaded in the previous step. The ten training $X$ and $y$ values we gave it in the `basic.csv` file are displayed as black dots on the graph. The blue sections show the range of $y$ values a given $X$ value could take, with the inner, darker blue sections being where the model is more certain the value lies. "
   ]
  },
  {
   "cell_type": "code",
   "execution_count": 10,
   "metadata": {},
   "outputs": [
    {
     "data": {
      "image/png": "[encoded data removed]",
      "text/plain": [
       "<Figure size 640x480 with 1 Axes>"
      ]
     },
     "metadata": {},
     "output_type": "display_data"
    }
   ],
   "source": [
    "# Plot parameters\n",
    "nsigs = [1, 2]\n",
    "# nsigs = [0.674, 1.960, 2.576]\n",
    "color = \"blue\"\n",
    "alpha = 0.5\n",
    "plot_training_data = True\n",
    "plot_model_mean = True\n",
    "plot_model_bands = True\n",
    "\n",
    "# Plot results\n",
    "grid = df_eval[\"x\"]\n",
    "mean = df_mean[\"y\"]\n",
    "err = df_std[\"y\"]\n",
    "if plot_model_bands:\n",
    "    label = \"Model prediction\"\n",
    "    plt.fill_between(grid, np.nan, np.nan, lw=0, color=color, alpha=alpha, label=label)\n",
    "    for isig, nsig in enumerate(nsigs):\n",
    "        plt.fill_between(grid, mean-nsig*err, mean+nsig*err, lw=0, color=color, alpha=alpha/(isig+1))\n",
    "if plot_model_mean:\n",
    "    label = \"Model prediction\" if not plot_model_bands else None\n",
    "    plt.plot(grid, mean, color=color, alpha=alpha, label=label)\n",
    "if plot_training_data:\n",
    "    plt.plot(df_train[\"x\"], df_train[\"y\"], \".\", color=\"black\", label=\"Training data\")\n",
    "plt.xlim((0.0, 1))\n",
    "plt.xlabel(\"$X$\")\n",
    "plt.ylabel(\"$y$\")\n",
    "plt.legend()\n",
    "plt.show()"
   ]
  },
  {
   "cell_type": "markdown",
   "metadata": {},
   "source": [
    "We finally delete the model and dataset off the web server."
   ]
  },
  {
   "cell_type": "code",
   "execution_count": 11,
   "metadata": {},
   "outputs": [
    {
     "name": "stdout",
     "output_type": "stream",
     "text": [
      "Response: basic campaign deleted successfully\n",
      "\n",
      "Response: basic.csv dataset and summary deleted successfully\n",
      "\n"
     ]
    }
   ],
   "source": [
    "# Delete campaign and dataset (if desired)\n",
    "tl.delete_campaign(campaign_id, verbose=True)\n",
    "tl.delete_dataset(dataset_id, verbose=True)"
   ]
  }
 ],
 "metadata": {
  "kernelspec": {
   "display_name": "twinlab-cloud-IBHCqXSr-py3.9",
   "language": "python",
   "name": "python3"
  },
  "language_info": {
   "codemirror_mode": {
    "name": "ipython",
    "version": 3
   },
   "file_extension": ".py",
   "mimetype": "text/x-python",
   "name": "python",
   "nbconvert_exporter": "python",
   "pygments_lexer": "ipython3",
   "version": "3.11.4"
  },
  "orig_nbformat": 4
 },
 "nbformat": 4,
 "nbformat_minor": 2
}
