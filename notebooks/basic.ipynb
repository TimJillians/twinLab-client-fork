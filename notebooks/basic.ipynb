{
 "cells": [
  {
   "cell_type": "code",
   "execution_count": 1,
   "metadata": {},
   "outputs": [
    {
     "ename": "SyntaxError",
     "evalue": "invalid syntax (utils.py, line 55)",
     "output_type": "error",
     "traceback": [
      "Traceback \u001b[0;36m(most recent call last)\u001b[0m:\n",
      "\u001b[0m  File \u001b[1;32m~/Library/Caches/pypoetry/virtualenvs/twinlab-client-IaMJnnkG-py3.9/lib/python3.9/site-packages/IPython/core/interactiveshell.py:3505\u001b[0m in \u001b[1;35mrun_code\u001b[0m\n    exec(code_obj, self.user_global_ns, self.user_ns)\u001b[0m\n",
      "\u001b[0m  Cell \u001b[1;32mIn[1], line 10\u001b[0m\n    import twinlab_client as tl\u001b[0m\n",
      "\u001b[0;36m  File \u001b[0;32m~/Projects/WORK/twinLab/client/twinlab_client/__init__.py:1\u001b[0;36m\n\u001b[0;31m    from .utils import get_command_line_args\u001b[0;36m\n",
      "\u001b[0;36m  File \u001b[0;32m~/Projects/WORK/twinLab/client/twinlab_client/utils.py:55\u001b[0;36m\u001b[0m\n\u001b[0;31m    user_info = user_info.update{\u001b[0m\n\u001b[0m                                ^\u001b[0m\n\u001b[0;31mSyntaxError\u001b[0m\u001b[0;31m:\u001b[0m invalid syntax\n"
     ]
    }
   ],
   "source": [
    "# Standard imports\n",
    "import os\n",
    "#from importlib import reload\n",
    "\n",
    "# Third-party imports\n",
    "import pandas as pd\n",
    "import matplotlib.pyplot as plt\n",
    "\n",
    "# Project imports\n",
    "import twinlab_client as tl\n",
    "#reload(tl)"
   ]
  },
  {
   "cell_type": "code",
   "execution_count": null,
   "metadata": {},
   "outputs": [],
   "source": [
    "# File paths\n",
    "campaign_dir = './../campaigns/basic/'\n",
    "file_train = campaign_dir + 'train.csv'\n",
    "file_eval = campaign_dir + 'eval.csv'\n",
    "file_params = campaign_dir + 'params.json'\n",
    "\n",
    "# User information\n",
    "user_info = {\n",
    "    'campaign': 'basic'\n",
    "}\n",
    "\n",
    "# Server\n",
    "# server = \"local\"\n",
    "server = \"cloud\""
   ]
  },
  {
   "cell_type": "code",
   "execution_count": null,
   "metadata": {},
   "outputs": [],
   "source": [
    "# Load training and evaluation data\n",
    "df_train = pd.read_csv(file_train)\n",
    "df_eval = pd.read_csv(file_eval)"
   ]
  },
  {
   "cell_type": "code",
   "execution_count": null,
   "metadata": {},
   "outputs": [],
   "source": [
    "# Run TwinLab\n",
    "tl.upload_data(file_train, user_info, server)\n",
    "tl.new_campaign(file_params, user_info, server)\n",
    "df_mean, df_std = tl.sample_emulator(file_eval, user_info, server)"
   ]
  },
  {
   "cell_type": "code",
   "execution_count": null,
   "metadata": {},
   "outputs": [],
   "source": [
    "# Plot results\n",
    "color = 'blue'\n",
    "alpha = 0.3\n",
    "plt.fill_between(df_eval['x'], df_mean[\"y0\"]-2.*df_std[\"y0\"], df_mean[\"y0\"]+2.*df_std[\"y0\"], lw=0, color=color, alpha=alpha)\n",
    "plt.fill_between(df_eval['x'], df_mean[\"y0\"]-df_std[\"y0\"], df_mean[\"y0\"]+df_std[\"y0\"], lw=0, color=color, alpha=alpha)\n",
    "plt.plot(df_eval['x'], df_mean[\"y0\"], color=color, alpha=alpha, label='Model')\n",
    "plt.plot(df_train['x'], df_train['y'], 'o', color='black', label='Training data')\n",
    "plt.xlim((0., 1.))\n",
    "plt.xlabel('x')\n",
    "plt.ylabel('y')\n",
    "plt.legend()\n",
    "plt.show()"
   ]
  },
  {
   "cell_type": "code",
   "execution_count": null,
   "metadata": {},
   "outputs": [],
   "source": [
    "# Delete campaign\n",
    "tl.delete_campaign(user_info, server)"
   ]
  }
 ],
 "metadata": {
  "kernelspec": {
   "display_name": "twinlab-cloud-IBHCqXSr-py3.9",
   "language": "python",
   "name": "python3"
  },
  "language_info": {
   "codemirror_mode": {
    "name": "ipython",
    "version": 3
   },
   "file_extension": ".py",
   "mimetype": "text/x-python",
   "name": "python",
   "nbconvert_exporter": "python",
   "pygments_lexer": "ipython3",
   "version": "3.9.16"
  },
  "orig_nbformat": 4
 },
 "nbformat": 4,
 "nbformat_minor": 2
}
