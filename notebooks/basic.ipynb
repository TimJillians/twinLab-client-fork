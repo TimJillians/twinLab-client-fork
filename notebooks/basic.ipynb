{
 "cells": [
  {
   "cell_type": "code",
   "execution_count": 1,
   "metadata": {},
   "outputs": [
    {
     "name": "stdout",
     "output_type": "stream",
     "text": [
      "\n",
      "      == Client Initialisation ==\n",
      "      Local Server  : http://localhost:3000\n",
      "      Cloud Server  : https://26rzbaygu9.execute-api.eu-west-2.amazonaws.com/Prod\n",
      "      Group Name    : digilab\n",
      "      User Name     : mead\n",
      "      \n"
     ]
    }
   ],
   "source": [
    "# Third-party imports\n",
    "import numpy as np\n",
    "import pandas as pd\n",
    "import matplotlib.pyplot as plt\n",
    "\n",
    "# Project imports\n",
    "import twinlab as tl"
   ]
  },
  {
   "cell_type": "code",
   "execution_count": 2,
   "metadata": {},
   "outputs": [],
   "source": [
    "# File paths\n",
    "campaign_dir = \"./../campaigns/basic/\"\n",
    "datasets_dir = \"./../datasets/\"\n",
    "dataset = \"basic.csv\"\n",
    "file_train = datasets_dir + dataset\n",
    "file_eval = campaign_dir + \"eval.csv\"\n",
    "file_params = campaign_dir + \"params.json\"\n",
    "\n",
    "# Campaign id\n",
    "campaign_id = \"basic\"\n",
    "\n",
    "# Server\n",
    "server = \"local\"\n",
    "# server = \"cloud\""
   ]
  },
  {
   "cell_type": "code",
   "execution_count": 3,
   "metadata": {},
   "outputs": [
    {
     "name": "stdout",
     "output_type": "stream",
     "text": [
      "Response: Presigned URL generated successfully\n",
      "\n",
      "File ./../datasets/basic.csv uploaded successfully.\n",
      "\n",
      "Uploading ./../datasets/basic.csv\n",
      "Response: Dataset basic.csv processed successfully\n",
      "\n"
     ]
    }
   ],
   "source": [
    "# Upload dataset to the cloud\n",
    "tl.upload_dataset(file_train, server=server, verbose=True)"
   ]
  },
  {
   "cell_type": "code",
   "execution_count": 4,
   "metadata": {},
   "outputs": [
    {
     "name": "stdout",
     "output_type": "stream",
     "text": [
      "Response: Training basic complete\n",
      "\n"
     ]
    }
   ],
   "source": [
    "# Start a new campaign and train an emulator\n",
    "tl.train_campaign(file_params, campaign_id, server=server, verbose=True)"
   ]
  },
  {
   "cell_type": "code",
   "execution_count": 6,
   "metadata": {},
   "outputs": [
    {
     "name": "stdout",
     "output_type": "stream",
     "text": [
      "Response: Query of basic campaign complete\n",
      "\n",
      "Metadata:\n",
      "{'inputs': ['x'],\n",
      " 'outputs': ['y'],\n",
      " 'diagnostics': {'transformer_diagnostics': [],\n",
      "                 'estimator_diagnostics': {'likelihood.noise_covar.raw_noise': [0.03157652570313829],\n",
      "                                           'likelihood.noise_covar.noise_prior.concentration': 1.100000023841858,\n",
      "                                           'likelihood.noise_covar.noise_prior.rate': 0.05000000074505806,\n",
      "                                           'likelihood.noise_covar.raw_noise_constraint.lower_bound': 9.999999747378752e-05,\n",
      "                                           'likelihood.noise_covar.raw_noise_constraint.upper_bound': inf,\n",
      "                                           'mean_module.raw_constant': 0.21052500685319392,\n",
      "                                           'covar_module.raw_outputscale': 1.5142710611310626,\n",
      "                                           'covar_module.base_kernel.raw_lengthscale': [[-0.6408405631160694]],\n",
      "                                           'covar_module.base_kernel.lengthscale_prior.concentration': 3.0,\n",
      "                                           'covar_module.base_kernel.lengthscale_prior.rate': 6.0,\n",
      "                                           'covar_module.base_kernel.raw_lengthscale_constraint.lower_bound': 0.0,\n",
      "                                           'covar_module.base_kernel.raw_lengthscale_constraint.upper_bound': inf,\n",
      "                                           'covar_module.outputscale_prior.concentration': 2.0,\n",
      "                                           'covar_module.outputscale_prior.rate': 0.15000000596046448,\n",
      "                                           'covar_module.raw_outputscale_constraint.lower_bound': 0.0,\n",
      "                                           'covar_module.raw_outputscale_constraint.upper_bound': inf,\n",
      "                                           'outcome_transform.means': [[0.029383131672480856]],\n",
      "                                           'outcome_transform.stdvs': [[0.7481906564998719]],\n",
      "                                           'outcome_transform._stdvs_sq': [[0.5597892584737093]],\n",
      "                                           'input_transform._coefficient': [[0.7539127448204125]],\n",
      "                                           'input_transform._offset': [[0.2268514535642031]]}},\n",
      " 'calibration_error': None}\n"
     ]
    }
   ],
   "source": [
    "# TODO: Delete\n",
    "_ = tl.query_campaign(campaign_id, server=server, verbose=True)"
   ]
  },
  {
   "cell_type": "code",
   "execution_count": null,
   "metadata": {},
   "outputs": [],
   "source": [
    "# Predict using the trained emulator\n",
    "df_mean, df_std = tl.predict_campaign(file_eval, campaign_id, server=server, verbose=True)"
   ]
  },
  {
   "cell_type": "code",
   "execution_count": null,
   "metadata": {},
   "outputs": [],
   "source": [
    "# List campaigns\n",
    "tl.list_campaigns(server=server, verbose=True)"
   ]
  },
  {
   "cell_type": "code",
   "execution_count": null,
   "metadata": {},
   "outputs": [],
   "source": [
    "# List datasets\n",
    "tl.list_datasets(server=server, verbose=True)"
   ]
  },
  {
   "cell_type": "code",
   "execution_count": null,
   "metadata": {},
   "outputs": [],
   "source": [
    "# Load training and evaluation data (for plotting)\n",
    "df_train = pd.read_csv(file_train)\n",
    "df_eval = pd.read_csv(file_eval)"
   ]
  },
  {
   "cell_type": "code",
   "execution_count": null,
   "metadata": {},
   "outputs": [],
   "source": [
    "# Plot parameters\n",
    "nsigs = [1, 2]\n",
    "# nsigs = [0.674, 1.960, 2.576]\n",
    "color = \"blue\"\n",
    "alpha = 0.5\n",
    "plot_training_data = True\n",
    "plot_model_mean = True\n",
    "plot_model_bands = True\n",
    "\n",
    "# Plot results\n",
    "grid = df_eval[\"x\"]\n",
    "mean = df_mean[\"y\"]\n",
    "err = df_std[\"y\"]\n",
    "if plot_model_bands:\n",
    "    label = r\"Model prediction\"\n",
    "    plt.fill_between(grid, np.nan, np.nan, lw=0, color=color, alpha=alpha, label=label)\n",
    "    for isig, nsig in enumerate(nsigs):\n",
    "        plt.fill_between(grid, mean-nsig*err, mean+nsig*err, lw=0, color=color, alpha=alpha/(isig+1))\n",
    "if plot_model_mean:\n",
    "    label = r\"Model prediction\" if not plot_model_bands else None\n",
    "    plt.plot(grid, mean, color=color, alpha=alpha, label=label)\n",
    "if plot_training_data:\n",
    "    plt.plot(df_train[\"x\"], df_train[\"y\"], \".\", color=\"black\", label=\"Training data\")\n",
    "plt.xlim((0.0, 1.0))\n",
    "plt.xlabel(r\"$X$\")\n",
    "plt.ylabel(r\"$y$\")\n",
    "plt.legend()\n",
    "plt.show()"
   ]
  },
  {
   "cell_type": "code",
   "execution_count": null,
   "metadata": {},
   "outputs": [],
   "source": [
    "# Delete campaign and dataset (if desired)\n",
    "tl.delete_campaign(campaign_id, server=server, verbose=True)\n",
    "tl.delete_dataset(file_train, server=server, verbose=True)"
   ]
  }
 ],
 "metadata": {
  "kernelspec": {
   "display_name": "twinlab-cloud-IBHCqXSr-py3.9",
   "language": "python",
   "name": "python3"
  },
  "language_info": {
   "codemirror_mode": {
    "name": "ipython",
    "version": 3
   },
   "file_extension": ".py",
   "mimetype": "text/x-python",
   "name": "python",
   "nbconvert_exporter": "python",
   "pygments_lexer": "ipython3",
   "version": "3.11.3"
  },
  "orig_nbformat": 4
 },
 "nbformat": 4,
 "nbformat_minor": 2
}
