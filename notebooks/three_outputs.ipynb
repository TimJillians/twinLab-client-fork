{
 "cells": [
  {
   "cell_type": "markdown",
   "metadata": {},
   "source": [
    "In this notbook we are testing how the model responds when it is asked to produce three outputs from one input. One of the outputs will be equal to the input, and another the quotient of the other two."
   ]
  },
  {
   "cell_type": "markdown",
   "metadata": {},
   "source": [
    "First we import the required libraries. `numpy` is used to allow us to manipulate arrays with efficiency. `pandas` gives us access to Panda Dataframes which are the preferred way of storing our data. `matplotlib.pyplot` lets us plot graphs with our data. `twinlab` is the main library we are using. The libraries are renamed using `as` for convenience. "
   ]
  },
  {
   "cell_type": "code",
   "execution_count": 1,
   "metadata": {},
   "outputs": [
    {
     "name": "stdout",
     "output_type": "stream",
     "text": [
      "\n",
      "         === TwinLab Client Initialisation ===\n",
      "         Training : https://pdersvjxmgrkqojwyeyocqm7le0iwtkx.lambda-url.eu-west-2.on.aws/\n",
      "         Server   : https://mt9w8ln59j.execute-api.eu-west-2.amazonaws.com/dev\n",
      "         Group    : digilab\n",
      "         User     : tim\n",
      "\n"
     ]
    }
   ],
   "source": [
    "# Third-party imports\n",
    "import numpy as np\n",
    "\n",
    "import pandas as pd\n",
    "import matplotlib.pyplot as plt\n",
    "\n",
    "# Project imports\n",
    "import twinlab as tl"
   ]
  },
  {
   "cell_type": "markdown",
   "metadata": {},
   "source": [
    "In this cell we train the model on our training data. We also set `n` to the number of items of training data we want.\n",
    "- We give it the first output $y_1$ which is an array of `n` length filled with float numbers between 0 and 1.\n",
    "- We give it the third output $y_3$ which is an array of `n` evenly spaced numbers between 0 and 1.\n",
    "- We define the second output $y_2$ as an array, where each element is the corresponding $y_3$ element divided by the corresponding $y_1$ element.\n",
    "- The only input is $X$, which is equal to $y_3$ plus a small amount of random noise."
   ]
  },
  {
   "cell_type": "code",
   "execution_count": 2,
   "metadata": {},
   "outputs": [
    {
     "name": "stdout",
     "output_type": "stream",
     "text": [
      "           X        y1        y2        y3\n",
      "0   0.022098  0.309271  0.000000  0.000000\n",
      "1  -0.002535  0.329204  0.030683  0.010101\n",
      "2   0.040245  0.494394  0.040862  0.020202\n",
      "3  -0.009681  0.204076  0.148489  0.030303\n",
      "4   0.019094  0.180958  0.223279  0.040404\n",
      "..       ...       ...       ...       ...\n",
      "95  0.862719  0.833425  1.151388  0.959596\n",
      "96  1.042859  0.555481  1.745688  0.969697\n",
      "97  0.994274  0.270479  3.622454  0.979798\n",
      "98  0.994975  0.597152  1.657701  0.989899\n",
      "99  0.923602  0.750529  1.332393  1.000000\n",
      "\n",
      "[100 rows x 4 columns]\n"
     ]
    }
   ],
   "source": [
    "dataset_id = \"three_outputs.csv\"\n",
    "campaign_id = \"three_outputs\"\n",
    "\n",
    "#Training Data\n",
    "n = 100\n",
    "y1 = np.random.rand(n)\n",
    "y3 = np.linspace(0, 1, n) \n",
    "y2 = y3/y1\n",
    "X = y3 + np.random.normal(0, 0.05, n)\n",
    "\n",
    "train_data = pd.DataFrame({'X': X, 'y1': y1, 'y2':y2, \"y3\":y3})\n",
    "print(train_data)"
   ]
  },
  {
   "cell_type": "markdown",
   "metadata": {},
   "source": [
    "In this cell we set the parameters we are going to train the model on."
   ]
  },
  {
   "cell_type": "code",
   "execution_count": 3,
   "metadata": {},
   "outputs": [],
   "source": [
    "#defines parameters for our prediction\n",
    "prediction_params = {\n",
    "    \"filename\": dataset_id,\n",
    "    \"inputs\" : [\"X\"],\n",
    "    \"outputs\": [\"y1\", \"y2\", \"y3\"],\n",
    "}"
   ]
  },
  {
   "cell_type": "markdown",
   "metadata": {},
   "source": [
    "We now upload the training data to the twinLab cloud.\n",
    "\n",
    "Whenever `verbose = true` is an argument, the function returns information about what it is doing to the user. This generates the grey text below the cells when they are run."
   ]
  },
  {
   "cell_type": "code",
   "execution_count": 4,
   "metadata": {},
   "outputs": [
    {
     "name": "stdout",
     "output_type": "stream",
     "text": [
      "Response: Presigned URL generated successfully\n",
      "\n",
      "Dataframe uploaded successfully.\n",
      "\n",
      "Uploading three_outputs.csv\n",
      "Response: Dataset three_outputs.csv processed successfully\n",
      "\n"
     ]
    }
   ],
   "source": [
    "tl.upload_dataset(train_data, dataset_name=dataset_id, verbose=True)"
   ]
  },
  {
   "cell_type": "markdown",
   "metadata": {},
   "source": [
    "`tl.list_datasets()` lets us check if the dataset we uploaded is in the right place.\n",
    "`tl.query_dataset()` lets us view statistics about the data in our dataset."
   ]
  },
  {
   "cell_type": "code",
   "execution_count": 5,
   "metadata": {},
   "outputs": [
    {
     "name": "stdout",
     "output_type": "stream",
     "text": [
      "Response: Found 5 datasets\n",
      "\n",
      "Datasets:\n",
      "['adaas', 'basic', 'basic.csv', 'test.csv', 'three_outputs.csv']\n"
     ]
    },
    {
     "data": {
      "text/html": [
       "<div>\n",
       "<style scoped>\n",
       "    .dataframe tbody tr th:only-of-type {\n",
       "        vertical-align: middle;\n",
       "    }\n",
       "\n",
       "    .dataframe tbody tr th {\n",
       "        vertical-align: top;\n",
       "    }\n",
       "\n",
       "    .dataframe thead th {\n",
       "        text-align: right;\n",
       "    }\n",
       "</style>\n",
       "<table border=\"1\" class=\"dataframe\">\n",
       "  <thead>\n",
       "    <tr style=\"text-align: right;\">\n",
       "      <th></th>\n",
       "      <th>X</th>\n",
       "      <th>y1</th>\n",
       "      <th>y2</th>\n",
       "      <th>y3</th>\n",
       "    </tr>\n",
       "  </thead>\n",
       "  <tbody>\n",
       "    <tr>\n",
       "      <th>count</th>\n",
       "      <td>100.000000</td>\n",
       "      <td>100.000000</td>\n",
       "      <td>100.000000</td>\n",
       "      <td>100.000000</td>\n",
       "    </tr>\n",
       "    <tr>\n",
       "      <th>mean</th>\n",
       "      <td>0.501182</td>\n",
       "      <td>0.496427</td>\n",
       "      <td>1.878629</td>\n",
       "      <td>0.500000</td>\n",
       "    </tr>\n",
       "    <tr>\n",
       "      <th>std</th>\n",
       "      <td>0.285294</td>\n",
       "      <td>0.289804</td>\n",
       "      <td>2.571069</td>\n",
       "      <td>0.293045</td>\n",
       "    </tr>\n",
       "    <tr>\n",
       "      <th>min</th>\n",
       "      <td>-0.009681</td>\n",
       "      <td>0.024605</td>\n",
       "      <td>0.000000</td>\n",
       "      <td>0.000000</td>\n",
       "    </tr>\n",
       "    <tr>\n",
       "      <th>25%</th>\n",
       "      <td>0.271323</td>\n",
       "      <td>0.266201</td>\n",
       "      <td>0.548153</td>\n",
       "      <td>0.250000</td>\n",
       "    </tr>\n",
       "    <tr>\n",
       "      <th>50%</th>\n",
       "      <td>0.485908</td>\n",
       "      <td>0.491863</td>\n",
       "      <td>1.041710</td>\n",
       "      <td>0.500000</td>\n",
       "    </tr>\n",
       "    <tr>\n",
       "      <th>75%</th>\n",
       "      <td>0.753935</td>\n",
       "      <td>0.754183</td>\n",
       "      <td>1.849765</td>\n",
       "      <td>0.750000</td>\n",
       "    </tr>\n",
       "    <tr>\n",
       "      <th>max</th>\n",
       "      <td>1.050143</td>\n",
       "      <td>0.992337</td>\n",
       "      <td>12.684329</td>\n",
       "      <td>1.000000</td>\n",
       "    </tr>\n",
       "  </tbody>\n",
       "</table>\n",
       "</div>"
      ],
      "text/plain": [
       "                X          y1          y2          y3\n",
       "count  100.000000  100.000000  100.000000  100.000000\n",
       "mean     0.501182    0.496427    1.878629    0.500000\n",
       "std      0.285294    0.289804    2.571069    0.293045\n",
       "min     -0.009681    0.024605    0.000000    0.000000\n",
       "25%      0.271323    0.266201    0.548153    0.250000\n",
       "50%      0.485908    0.491863    1.041710    0.500000\n",
       "75%      0.753935    0.754183    1.849765    0.750000\n",
       "max      1.050143    0.992337   12.684329    1.000000"
      ]
     },
     "execution_count": 5,
     "metadata": {},
     "output_type": "execute_result"
    }
   ],
   "source": [
    "_ = tl.list_datasets(verbose=True)\n",
    "tl.query_dataset(dataset_id)"
   ]
  },
  {
   "cell_type": "markdown",
   "metadata": {},
   "source": [
    "This cell trains the model on the dataset we provided, and within the parameters we provided."
   ]
  },
  {
   "cell_type": "code",
   "execution_count": 6,
   "metadata": {},
   "outputs": [
    {
     "name": "stdout",
     "output_type": "stream",
     "text": [
      "Response: Training three_outputs complete\n",
      "\n"
     ]
    }
   ],
   "source": [
    "tl.train_campaign(prediction_params, campaign_id, verbose=True)"
   ]
  },
  {
   "cell_type": "markdown",
   "metadata": {},
   "source": [
    "This simply lists the current models on the twinlab cloud."
   ]
  },
  {
   "cell_type": "code",
   "execution_count": 7,
   "metadata": {},
   "outputs": [
    {
     "name": "stdout",
     "output_type": "stream",
     "text": [
      "Response: Found 2 campaigns\n",
      "\n",
      "Campaigns:\n",
      "['three_outputs', 'test']\n"
     ]
    }
   ],
   "source": [
    "_ = tl.list_campaigns(verbose=True)"
   ]
  },
  {
   "cell_type": "markdown",
   "metadata": {},
   "source": [
    "This displays information about the model we are using."
   ]
  },
  {
   "cell_type": "code",
   "execution_count": 8,
   "metadata": {},
   "outputs": [
    {
     "name": "stdout",
     "output_type": "stream",
     "text": [
      "Response: Query of three_outputs campaign complete\n",
      "\n",
      "Metadata:\n",
      "{'inputs': ['X'],\n",
      " 'outputs': ['y1', 'y2', 'y3'],\n",
      " 'diagnostics': {'transformer_diagnostics': [],\n",
      "                 'estimator_diagnostics': {'likelihood.noise_covar.raw_noise': [[0.9729533813782344],\n",
      "                                                                                [0.9429580110122532],\n",
      "                                                                                [0.024698210129539606]],\n",
      "                                           'likelihood.noise_covar.noise_prior.concentration': 1.100000023841858,\n",
      "                                           'likelihood.noise_covar.noise_prior.rate': 0.05000000074505806,\n",
      "                                           'likelihood.noise_covar.raw_noise_constraint.lower_bound': 9.999999747378752e-05,\n",
      "                                           'likelihood.noise_covar.raw_noise_constraint.upper_bound': inf,\n",
      "                                           'mean_module.raw_constant': [-0.018995423082449333,\n",
      "                                                                        -0.17797271701149492,\n",
      "                                                                        -0.17150134560922414],\n",
      "                                           'covar_module.raw_outputscale': [-1.2855437713842275,\n",
      "                                                                            -0.6979294885359805,\n",
      "                                                                            2.5545530028176615],\n",
      "                                           'covar_module.base_kernel.raw_lengthscale': [[[-0.8670898570152097]],\n",
      "                                                                                        [[-0.5210974971953416]],\n",
      "                                                                                        [[0.3116847478384269]]],\n",
      "                                           'covar_module.base_kernel.lengthscale_prior.concentration': 3.0,\n",
      "                                           'covar_module.base_kernel.lengthscale_prior.rate': 6.0,\n",
      "                                           'covar_module.base_kernel.raw_lengthscale_constraint.lower_bound': 0.0,\n",
      "                                           'covar_module.base_kernel.raw_lengthscale_constraint.upper_bound': inf,\n",
      "                                           'covar_module.outputscale_prior.concentration': 2.0,\n",
      "                                           'covar_module.outputscale_prior.rate': 0.15000000596046448,\n",
      "                                           'covar_module.raw_outputscale_constraint.lower_bound': 0.0,\n",
      "                                           'covar_module.raw_outputscale_constraint.upper_bound': inf,\n",
      "                                           'outcome_transform.means': [[0.4964272081421546,\n",
      "                                                                        1.878628822058375,\n",
      "                                                                        0.5]],\n",
      "                                           'outcome_transform.stdvs': [[0.28980374809420245,\n",
      "                                                                        2.5710693178251627,\n",
      "                                                                        0.2930453734937579]],\n",
      "                                           'outcome_transform._stdvs_sq': [[0.08398621240944795,\n",
      "                                                                            6.610397437061947,\n",
      "                                                                            0.08587559092609608]],\n",
      "                                           'input_transform._coefficient': [[1.0598244915094073]],\n",
      "                                           'input_transform._offset': [[-0.0096813375533358]]}},\n",
      " 'calibration_error': None}\n"
     ]
    }
   ],
   "source": [
    "_ = tl.query_campaign(campaign_id, verbose=True)"
   ]
  },
  {
   "cell_type": "markdown",
   "metadata": {},
   "source": [
    "This cell creates the input data we are going to give to the model for it to predict the three outputs of. \n",
    "The data is currently 1001 (defined by `num_predictions`) evenly spaced numbers between 0 and 1.\n",
    "\n",
    "We also put them in a Pandas Dataframe."
   ]
  },
  {
   "cell_type": "code",
   "execution_count": 9,
   "metadata": {},
   "outputs": [
    {
     "name": "stdout",
     "output_type": "stream",
     "text": [
      "          X\n",
      "0     0.000\n",
      "1     0.001\n",
      "2     0.002\n",
      "3     0.003\n",
      "4     0.004\n",
      "...     ...\n",
      "996   0.996\n",
      "997   0.997\n",
      "998   0.998\n",
      "999   0.999\n",
      "1000  1.000\n",
      "\n",
      "[1001 rows x 1 columns]\n"
     ]
    }
   ],
   "source": [
    "num_predictions = 1001\n",
    "input_dict = {\n",
    "    \"X\": np.linspace(0., 1., num_predictions).tolist()\n",
    "}\n",
    "\n",
    "prediction_inputs = pd.DataFrame(input_dict)\n",
    "print(prediction_inputs)"
   ]
  },
  {
   "cell_type": "markdown",
   "metadata": {},
   "source": [
    "We then give these numbers to the model, and it generates what it thinks the three outputs should be. `df_mean` is the value it predicts. `df_std` is how uncertain the model is about that value."
   ]
  },
  {
   "cell_type": "code",
   "execution_count": 10,
   "metadata": {},
   "outputs": [
    {
     "name": "stdout",
     "output_type": "stream",
     "text": [
      "          X\n",
      "0     0.000\n",
      "1     0.001\n",
      "2     0.002\n",
      "3     0.003\n",
      "4     0.004\n",
      "...     ...\n",
      "996   0.996\n",
      "997   0.997\n",
      "998   0.998\n",
      "999   0.999\n",
      "1000  1.000\n",
      "\n",
      "[1001 rows x 1 columns]\n",
      "Response: Prediction from three_outputs campaign complete\n",
      "\n",
      "Mean: \n",
      "             y1        y2        y3\n",
      "0     0.443338  0.533109  0.023412\n",
      "1     0.443509  0.534948  0.023996\n",
      "2     0.443681  0.536802  0.024583\n",
      "3     0.443854  0.538671  0.025171\n",
      "4     0.444028  0.540555  0.025762\n",
      "...        ...       ...       ...\n",
      "996   0.573348  2.128335  0.965733\n",
      "997   0.573230  2.127067  0.966143\n",
      "998   0.573111  2.125798  0.966549\n",
      "999   0.572992  2.124528  0.966952\n",
      "1000  0.572871  2.123258  0.967352\n",
      "\n",
      "[1001 rows x 3 columns] \n",
      "\n",
      "Std: \n",
      "             y1        y2        y3\n",
      "0     0.069534  0.626018  0.017917\n",
      "1     0.069349  0.624218  0.017760\n",
      "2     0.069166  0.622425  0.017604\n",
      "3     0.068983  0.620638  0.017450\n",
      "4     0.068801  0.618857  0.017299\n",
      "...        ...       ...       ...\n",
      "996   0.069502  0.621917  0.016368\n",
      "997   0.069679  0.623672  0.016470\n",
      "998   0.069857  0.625432  0.016573\n",
      "999   0.070035  0.627197  0.016677\n",
      "1000  0.070214  0.628968  0.016783\n",
      "\n",
      "[1001 rows x 3 columns] \n",
      "\n"
     ]
    }
   ],
   "source": [
    "print(prediction_inputs)\n",
    "df_mean, df_std = tl.predict_campaign(prediction_inputs, campaign_id, verbose=True)"
   ]
  },
  {
   "cell_type": "markdown",
   "metadata": {},
   "source": [
    "Now we plot the data on 3 graphs - one for X against $y_1$, one for X against $y_2$, and one for X against $y_3$.\n",
    "- The black dots on the graph are the training data we gave it. \n",
    "- The darkest blue line in the graph is the `df_mean` value.\n",
    "- The blue sections either side represent the range of uncertainty in the `df_mean` value.\n",
    "\n",
    "$y_1$ settles to around a value of 0.5.\n",
    "$y_2$'s average will increase the more numbers the model predicts, currently at around 2 - but with more data it would increase.\n",
    "$y_2$ also has some enourmously high values which occur whenever $y_1$ is a very tiny number, so the result of the division is very high. \n",
    "The third graph shows the model is good at predicting $y_3$, because the training data shows it is the same as the $X$ value it is given."
   ]
  },
  {
   "cell_type": "code",
   "execution_count": 11,
   "metadata": {},
   "outputs": [
    {
     "data": {
      "image/png": "[encoded data removed]",
      "text/plain": [
       "<Figure size 640x480 with 1 Axes>"
      ]
     },
     "metadata": {},
     "output_type": "display_data"
    },
    {
     "data": {
      "image/png": "[encoded data removed]",
      "text/plain": [
       "<Figure size 640x480 with 1 Axes>"
      ]
     },
     "metadata": {},
     "output_type": "display_data"
    },
    {
     "data": {
      "image/png": "[encoded data removed]",
      "text/plain": [
       "<Figure size 640x480 with 1 Axes>"
      ]
     },
     "metadata": {},
     "output_type": "display_data"
    },
    {
     "name": "stdout",
     "output_type": "stream",
     "text": [
      "          X\n",
      "0     0.000\n",
      "1     0.001\n",
      "2     0.002\n",
      "3     0.003\n",
      "4     0.004\n",
      "...     ...\n",
      "996   0.996\n",
      "997   0.997\n",
      "998   0.998\n",
      "999   0.999\n",
      "1000  1.000\n",
      "\n",
      "[1001 rows x 1 columns]\n",
      "            y1        y2        y3\n",
      "0     0.443338  0.533109  0.023412\n",
      "1     0.443509  0.534948  0.023996\n",
      "2     0.443681  0.536802  0.024583\n",
      "3     0.443854  0.538671  0.025171\n",
      "4     0.444028  0.540555  0.025762\n",
      "...        ...       ...       ...\n",
      "996   0.573348  2.128335  0.965733\n",
      "997   0.573230  2.127067  0.966143\n",
      "998   0.573111  2.125798  0.966549\n",
      "999   0.572992  2.124528  0.966952\n",
      "1000  0.572871  2.123258  0.967352\n",
      "\n",
      "[1001 rows x 3 columns]\n",
      "            y1        y2        y3\n",
      "0     0.069534  0.626018  0.017917\n",
      "1     0.069349  0.624218  0.017760\n",
      "2     0.069166  0.622425  0.017604\n",
      "3     0.068983  0.620638  0.017450\n",
      "4     0.068801  0.618857  0.017299\n",
      "...        ...       ...       ...\n",
      "996   0.069502  0.621917  0.016368\n",
      "997   0.069679  0.623672  0.016470\n",
      "998   0.069857  0.625432  0.016573\n",
      "999   0.070035  0.627197  0.016677\n",
      "1000  0.070214  0.628968  0.016783\n",
      "\n",
      "[1001 rows x 3 columns]\n"
     ]
    }
   ],
   "source": [
    "# Plot parameters\n",
    "nsigs = [1, 2]\n",
    "color = \"blue\"\n",
    "alpha = 0.5\n",
    "plot_training_data = True\n",
    "plot_model_mean = True\n",
    "plot_model_bands = True\n",
    "\n",
    "# Plot results\n",
    "for Y, Ylabel in zip([\"y1\", \"y2\", \"y3\"], [\"$y_1$\", \"$y_2$\", \"$y_3$\"]):\n",
    "    grid = prediction_inputs[\"X\"]\n",
    "    mean = df_mean[Y]\n",
    "    err = df_std[Y]\n",
    "    if plot_model_bands:\n",
    "        label = \"Model prediction\"\n",
    "        plt.fill_between(grid, np.nan, np.nan, lw=0, color=color, alpha=alpha, label=label)\n",
    "        for isig, nsig in enumerate(nsigs):\n",
    "            plt.fill_between(grid, mean-nsig*err, mean+nsig*err, lw=0, color=color, alpha=alpha/(isig+1))\n",
    "    if plot_model_mean:\n",
    "        label = \"Model prediction\" if not plot_model_bands else None\n",
    "        plt.plot(grid, mean, color=color, alpha=alpha, label=label)\n",
    "    if plot_training_data:\n",
    "        plt.plot(train_data[\"X\"], train_data[Y], \".\", color=\"black\", label=\"Training data\")\n",
    "    plt.xlim((0., 1.))\n",
    "    plt.xlabel(\"$X$\")\n",
    "    plt.ylabel(Ylabel)\n",
    "    plt.legend()\n",
    "    plt.show()\n",
    "\n",
    "print(prediction_inputs)\n",
    "print(df_mean)\n",
    "print(df_std)"
   ]
  },
  {
   "cell_type": "markdown",
   "metadata": {},
   "source": [
    "We can finally remove our dataset and trained model from the twinlab cloud."
   ]
  },
  {
   "cell_type": "code",
   "execution_count": 12,
   "metadata": {},
   "outputs": [
    {
     "name": "stdout",
     "output_type": "stream",
     "text": [
      "Response: three_outputs campaign deleted successfully\n",
      "\n",
      "Response: three_outputs.csv dataset and summary deleted successfully\n",
      "\n"
     ]
    }
   ],
   "source": [
    "# Delete campaign and dataset (if desired)\n",
    "tl.delete_campaign(campaign_id, verbose=True)\n",
    "tl.delete_dataset(dataset_id, verbose=True)"
   ]
  },
  {
   "cell_type": "markdown",
   "metadata": {},
   "source": [
    "These results show that it is very difficult to determine two numbers just based on their quotient, as there are many values they can take."
   ]
  }
 ],
 "metadata": {
  "kernelspec": {
   "display_name": "twinlab-cloud-IBHCqXSr-py3.9",
   "language": "python",
   "name": "python3"
  },
  "language_info": {
   "codemirror_mode": {
    "name": "ipython",
    "version": 3
   },
   "file_extension": ".py",
   "mimetype": "text/x-python",
   "name": "python",
   "nbconvert_exporter": "python",
   "pygments_lexer": "ipython3",
   "version": "3.11.4"
  },
  "orig_nbformat": 4
 },
 "nbformat": 4,
 "nbformat_minor": 2
}
