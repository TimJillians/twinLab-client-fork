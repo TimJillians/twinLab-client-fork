{
 "cells": [
  {
   "cell_type": "code",
   "execution_count": null,
   "metadata": {},
   "outputs": [],
   "source": [
    "# Standard imports\n",
    "import time\n",
    "\n",
    "# Third-party imports\n",
    "import matplotlib.pyplot as plt\n",
    "import pandas as pd\n",
    "\n",
    "# Project imports\n",
    "import twinlab_client as tl"
   ]
  },
  {
   "cell_type": "code",
   "execution_count": null,
   "metadata": {},
   "outputs": [],
   "source": [
    "# File paths\n",
    "campaign_dir = \"./../campaigns/ukaea/\"\n",
    "datasets_dir = \"./../datasets/\"\n",
    "file_train = datasets_dir + \"ukaea_small.csv\"\n",
    "file_eval = campaign_dir + \"eval.csv\"\n",
    "# file_eval = campaign_dir + \"gen.csv\"\n",
    "file_grid = \"data/ukaea/grid.csv\"\n",
    "\n",
    "# Campaign id\n",
    "campaign_id = \"ukaea\"\n",
    "\n",
    "# Server\n",
    "# server = \"local\"\n",
    "server = \"cloud\""
   ]
  },
  {
   "cell_type": "code",
   "execution_count": null,
   "metadata": {},
   "outputs": [],
   "source": [
    "# Load training and evaluation data (for plotting purposes)\n",
    "df_train = pd.read_csv(file_train)\n",
    "df_eval = pd.read_csv(file_eval)\n",
    "df_grid = pd.read_csv(file_grid, header=None)"
   ]
  },
  {
   "cell_type": "code",
   "execution_count": null,
   "metadata": {},
   "outputs": [],
   "source": [
    "# Column headings for outputs\n",
    "y_outputs = [f\"y{i}\" for i in range(len(df_grid))]\n",
    "\n",
    "# Parameters\n",
    "params = {\n",
    "    \"estimator\": \"gaussian_process_regression\",\n",
    "    \"filename\": \"ukaea_small.csv\",\n",
    "    \"inputs\": [\"E1\", \"E2\", \"E3\", \"n1\", \"n2\"],\n",
    "    \"outputs\": y_outputs,\n",
    "    \"train_test_split\": len(df_train),\n",
    "    \"decompose_outputs\": True,\n",
    "}"
   ]
  },
  {
   "cell_type": "code",
   "execution_count": null,
   "metadata": {},
   "outputs": [],
   "source": [
    "# Upload dataset to cloud\n",
    "tl.upload_dataset(file_train, server=server, verbose=True)"
   ]
  },
  {
   "cell_type": "code",
   "execution_count": null,
   "metadata": {},
   "outputs": [],
   "source": [
    "# TODO: Delete\n",
    "# tl.list_campaigns(server=server, verbose=True)\n",
    "# tl.delete_campaign(campaign_id, server=server, verbose=True)\n",
    "# tl.list_campaigns(server=server, verbose=True)"
   ]
  },
  {
   "cell_type": "code",
   "execution_count": null,
   "metadata": {},
   "outputs": [],
   "source": [
    "# Train campaign\n",
    "# TODO: You get an error message here when the request times out\n",
    "tl.new_campaign(params, campaign_id, server=server, verbose=True)\n",
    "if server == 'cloud':\n",
    "    time.sleep(90) # Training online takes longer than the 29 seconds for the HTTP request to time out"
   ]
  },
  {
   "cell_type": "code",
   "execution_count": null,
   "metadata": {},
   "outputs": [],
   "source": [
    "# TODO: Delete\n",
    "tl.list_campaigns(server=server, verbose=True)"
   ]
  },
  {
   "cell_type": "code",
   "execution_count": null,
   "metadata": {},
   "outputs": [],
   "source": [
    "# Sample from emulator\n",
    "df_mean, df_std = tl.sample_emulator(file_eval, campaign_id, server=server, verbose=False)"
   ]
  },
  {
   "cell_type": "code",
   "execution_count": null,
   "metadata": {},
   "outputs": [],
   "source": [
    "# List datasets to check that the upload worked\n",
    "tl.list_datasets(server=server, verbose=True)"
   ]
  },
  {
   "cell_type": "code",
   "execution_count": null,
   "metadata": {},
   "outputs": [],
   "source": [
    "# List campaigns to sanity check that the campaign was created\n",
    "tl.list_campaigns(server=server, verbose=True)"
   ]
  },
  {
   "cell_type": "code",
   "execution_count": null,
   "metadata": {},
   "outputs": [],
   "source": [
    "# Parameters for plot\n",
    "color = \"blue\"\n",
    "alpha = 0.8\n",
    "xs = {\"E1\": r\"$E_{1}$\", \"E2\": r\"$E_{2}$\", \"E3\": r\"$E_{3}$\", \"n1\": r\"$n_{1}$\", \"n2\": r\"$n_{2}$\"}\n",
    "ys = {f\"y{i}\": fr\"$y_{{{i}}}$\" for i in [0, 100, 150]}\n",
    "\n",
    "# Plot some examples\n",
    "nrow, ncol = len(ys), len(xs)\n",
    "plt.subplots(nrow, ncol, figsize=(25, 10))\n",
    "nplot = 0\n",
    "for y, y_label in ys.items():\n",
    "    for x, x_label in xs.items():\n",
    "        nplot += 1\n",
    "        plt.subplot(nrow, ncol, nplot)\n",
    "        plt.errorbar(df_eval[x], df_mean[y], yerr=df_std[y], marker='.', lw=1, ls='None', color=color, alpha=alpha, label=\"Model\")\n",
    "        plt.plot(df_train[x], df_train[y], \".\", color=\"black\", alpha=0.1, label=\"Training data\")\n",
    "        plt.xlabel(x_label)\n",
    "        plt.ylabel(y_label)\n",
    "        if nplot==1: plt.legend()\n",
    "plt.show()"
   ]
  },
  {
   "cell_type": "code",
   "execution_count": null,
   "metadata": {},
   "outputs": [],
   "source": [
    "# Parameters for pot\n",
    "error_inflation_factor = 1. # Factor to multiply error by for plotting\n",
    "y_fac = 18\n",
    "plot_mean = False\n",
    "model_color = 'blue'\n",
    "\n",
    "# Plot results\n",
    "grid = df_grid.iloc[:, 0]\n",
    "for data_example in range(5):\n",
    "    train = df_train[y_outputs].iloc[data_example]/10**y_fac\n",
    "    label = \"Example training data\" if data_example==0 else None\n",
    "    plt.plot(grid, train, color='black', alpha=0.5, label=label)\n",
    "for example in range(5):\n",
    "    mean = df_mean[y_outputs].iloc[example]/10**y_fac\n",
    "    err = error_inflation_factor*df_std[y_outputs].iloc[example]/10**y_fac\n",
    "    model_label = \"Example model predictions\"\n",
    "    label = model_label if example==0 else None\n",
    "    if plot_mean:\n",
    "        plt.plot(grid, mean, color=model_color, label=label, alpha=0.1)\n",
    "    for isig, nsig in enumerate(tl.NSIGS):\n",
    "        label = model_label if example==0 and isig==0 and not plot_mean else None\n",
    "        plt.fill_between(grid, mean-nsig*err, mean+nsig*err, color=model_color, alpha=0.05, lw=0., label=label)\n",
    "plt.xlabel(r'Temperature [K]')\n",
    "plt.xlim((grid.min(), grid.max()))\n",
    "plt.ylabel(rf\"Desorption rate [$10^{{{y_fac}}}$ $m^{{{-2}}}$ $s^{{{-1}}}$]\")\n",
    "plt.ylim(bottom=0.)\n",
    "plt.legend()\n",
    "plt.show()"
   ]
  },
  {
   "cell_type": "code",
   "execution_count": null,
   "metadata": {},
   "outputs": [],
   "source": [
    "# Delete campaign\n",
    "tl.delete_campaign(campaign_id, server=server, verbose=True)"
   ]
  }
 ],
 "metadata": {
  "kernelspec": {
   "display_name": "twinlab-cloud-IBHCqXSr-py3.9",
   "language": "python",
   "name": "python3"
  },
  "language_info": {
   "codemirror_mode": {
    "name": "ipython",
    "version": 3
   },
   "file_extension": ".py",
   "mimetype": "text/x-python",
   "name": "python",
   "nbconvert_exporter": "python",
   "pygments_lexer": "ipython3",
   "version": "3.9.16"
  },
  "orig_nbformat": 4
 },
 "nbformat": 4,
 "nbformat_minor": 2
}
